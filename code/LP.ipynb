{
 "cells": [
  {
   "cell_type": "code",
   "execution_count": 2,
   "metadata": {},
   "outputs": [],
   "source": [
    "%matplotlib inline\n",
    " \n",
    "import pulp\n",
    "import numpy as np\n",
    "import pandas as pd\n",
    "import re\n",
    "import matplotlib.pyplot as plt\n",
    "from IPython.display import Image\n"
   ]
  },
  {
   "cell_type": "code",
   "execution_count": null,
   "metadata": {},
   "outputs": [],
   "source": [
    "import pandas as pd\n",
    "\n",
    "import xml.etree.ElementTree as et\n",
    "\n",
    "def parse_XML(xml_file, df_cols): \n",
    "    \"\"\"Parse the input XML file and store the result in a pandas \n",
    "    DataFrame with the given columns. \n",
    "    \n",
    "    The first element of df_cols is supposed to be the identifier \n",
    "    variable, which is an attribute of each node element in the \n",
    "    XML data; other features will be parsed from the text content \n",
    "    of each sub-element. \n",
    "    \"\"\"\n",
    "    \n",
    "    xtree = et.parse(xml_file)\n",
    "    xroot = xtree.getroot()\n",
    "    rows = []\n",
    "    \n",
    "    for node in xroot: \n",
    "        res = []\n",
    "        res.append(node.attrib.get(df_cols[0]))\n",
    "        for el in df_cols[1:]: \n",
    "            if node is not None and node.find(el) is not None:\n",
    "                res.append(node.find(el).text)\n",
    "            else: \n",
    "                res.append(None)\n",
    "        rows.append({df_cols[i]: res[i] \n",
    "                     for i, _ in enumerate(df_cols)})\n",
    "    \n",
    "    out_df = pd.DataFrame(rows, columns=df_cols)\n",
    "        \n",
    "    return out_df\n",
    "\n",
    "with tarfile.open(\"sample.tar.gz\", \"r:bz2\") as tar:\n",
    "    xml_path = tar.getnames()[0]\n",
    "    df = parse_XML(tar.extractfile(xml_path))"
   ]
  },
  {
   "cell_type": "code",
   "execution_count": 28,
   "metadata": {},
   "outputs": [
    {
     "name": "stdout",
     "output_type": "stream",
     "text": [
      "   Первая точка  Вторая точка  Поток\n",
      "0             1             2      5\n",
      "1             2             3      7\n",
      "2             2             4      3\n",
      "3             4             3      1\n",
      "   0  1  2  3\n",
      "0  1  0  0  0\n",
      "1  1  1  0  0\n",
      "2  0  1  0  0\n",
      "3  0  0  1  0\n",
      "4  1  1  1  0\n",
      "5  0  0  0  1\n"
     ]
    }
   ],
   "source": [
    "data = {'Первая точка':[1,2,2,4],\n",
    "        'Вторая точка':[2,3,4,3],\n",
    "        'Поток':[5,7,3,1]\n",
    "       }\n",
    "\n",
    "trip_matrix = {'0': [1, 1, 0, 0, 1, 0],\n",
    "               '1' :[0, 1, 1, 0, 1, 0],\n",
    "               '2' :[0, 0, 0, 1, 1, 0],\n",
    "               '3' :[0, 0, 0, 0, 0, 1]}\n",
    "#1-2 1-3 2-3 2-4 1-4 3-4\n",
    " \n",
    "# Calling DataFrame constructor on list\n",
    "data = pd.DataFrame(data)\n",
    "trip_matrix = pd.DataFrame(trip_matrix)\n",
    "print(data)\n",
    "print(trip_matrix)"
   ]
  },
  {
   "cell_type": "code",
   "execution_count": 29,
   "metadata": {},
   "outputs": [],
   "source": [
    "prob = pulp.LpProblem('Traffic_matrix', pulp.LpMaximize)"
   ]
  },
  {
   "cell_type": "code",
   "execution_count": 30,
   "metadata": {},
   "outputs": [],
   "source": [
    "# create flow\n",
    "flow_variables = []\n",
    "for trip_num, reb_use in trip_matrix.iterrows():\n",
    "    variable = str('Pair ' + str(trip_num))\n",
    "    variable = pulp.LpVariable(str(variable), lowBound = 0, cat = 'Integer')\n",
    "    flow_variables.append(variable)"
   ]
  },
  {
   "cell_type": "code",
   "execution_count": 31,
   "metadata": {},
   "outputs": [],
   "source": [
    "sum_flow = 0\n",
    "for i, flow in enumerate(flow_variables):\n",
    "        sum_flow += flow\n",
    "            #вес длина пути + взвешанность?\n",
    "prob += sum_flow"
   ]
  },
  {
   "cell_type": "code",
   "execution_count": 32,
   "metadata": {},
   "outputs": [],
   "source": [
    "# Create Constraint 1 - sum X_j\n",
    "total_flow = []\n",
    "for rebnum, reb  in data.iterrows():\n",
    "    total_flow.append(None)\n",
    "for i, flow in enumerate(flow_variables):\n",
    "    for trip_num, reb_use in trip_matrix.iterrows():\n",
    "        if trip_num == i:\n",
    "            for rebnum, reb  in data.iterrows():\n",
    "                a = str(rebnum)\n",
    "                formula = reb_use[a]*flow\n",
    "                total_flow[rebnum] += formula\n",
    "        \n",
    "        \n",
    "for rebnum, reb  in data.iterrows():           \n",
    "    prob += (total_flow[rebnum] <= reb['Поток'])"
   ]
  },
  {
   "cell_type": "code",
   "execution_count": 33,
   "metadata": {},
   "outputs": [
    {
     "name": "stdout",
     "output_type": "stream",
     "text": [
      "🤔 The problem has successfully formulated\n"
     ]
    }
   ],
   "source": [
    "prob.writeLP('Traffic_matrix.lp')\n",
    "print('🤔 The problem has successfully formulated')"
   ]
  },
  {
   "cell_type": "code",
   "execution_count": 34,
   "metadata": {},
   "outputs": [
    {
     "name": "stdout",
     "output_type": "stream",
     "text": [
      "Status: Optimal\n",
      "Optimal Solution to the problem:  16.0\n",
      "Individual decision variables: \n",
      "Pair_0 = 5.0\n",
      "Pair_1 = 0.0\n",
      "Pair_2 = 7.0\n",
      "Pair_3 = 3.0\n",
      "Pair_4 = 0.0\n",
      "Pair_5 = 1.0\n"
     ]
    }
   ],
   "source": [
    "optimization_result = prob.solve()\n",
    "\n",
    "assert optimization_result == pulp.LpStatusOptimal\n",
    "print('Status:', pulp.LpStatus[prob.status])\n",
    "print('Optimal Solution to the problem: ', pulp.value(prob.objective))\n",
    "print('Individual decision variables: ')\n",
    "\n",
    "\n",
    "for v in prob.variables():\n",
    "    if v.varValue >= 0:\n",
    "        print(v.name, '=', v.varValue)"
   ]
  },
  {
   "cell_type": "code",
   "execution_count": null,
   "metadata": {},
   "outputs": [],
   "source": []
  }
 ],
 "metadata": {
  "kernelspec": {
   "display_name": "Python 3",
   "language": "python",
   "name": "python3"
  },
  "language_info": {
   "codemirror_mode": {
    "name": "ipython",
    "version": 3
   },
   "file_extension": ".py",
   "mimetype": "text/x-python",
   "name": "python",
   "nbconvert_exporter": "python",
   "pygments_lexer": "ipython3",
   "version": "3.6.9"
  }
 },
 "nbformat": 4,
 "nbformat_minor": 2
}
